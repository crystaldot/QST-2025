{
 "cells": [
  {
   "cell_type": "markdown",
   "id": "28e6a2ea-6cca-4fad-8ec2-72b3166f7f8e",
   "metadata": {},
   "source": [
    "# Primitives\n",
    "- ### Primitives are core functions that make it easier to build modular algorithms and applications. \n",
    "    - #### **Sampler:** Generates quasi-probability distribution from input circuits.\n",
    "    - #### **Estimator:** Calculates expectation values from input circuits and observables."
   ]
  },
  {
   "attachments": {},
   "cell_type": "markdown",
   "id": "89f6cf5f-2335-4fc0-8ae1-1a11e7f8408d",
   "metadata": {},
   "source": [
    "![primitive photo](./images/primitives.png)"
   ]
  },
  {
   "cell_type": "markdown",
   "id": "ba0c9cfa-b5a9-41f7-a957-f64781be54cc",
   "metadata": {},
   "source": [
    "# Build a Bell State and Learn to Use `Sampler`"
   ]
  },
  {
   "cell_type": "code",
   "execution_count": 1,
   "id": "20fa8eb5-85d2-46ec-8608-1b1cc15250a4",
   "metadata": {},
   "outputs": [],
   "source": [
    "from qiskit import QuantumCircuit"
   ]
  },
  {
   "cell_type": "code",
   "execution_count": 2,
   "id": "f1d83e36-b5a0-45c9-b223-1798817df71c",
   "metadata": {},
   "outputs": [
    {
     "data": {
      "image/png": "[encoded data removed]",
      "text/plain": [
       "<Figure size 287.294x200.667 with 1 Axes>"
      ]
     },
     "execution_count": 2,
     "metadata": {},
     "output_type": "execute_result"
    }
   ],
   "source": [
    "bell_circuit = QuantumCircuit(2)\n",
    "bell_circuit.h(0)\n",
    "bell_circuit.cx(0,1)\n",
    "bell_circuit.draw('mpl')"
   ]
  },
  {
   "cell_type": "markdown",
   "id": "c5161576-7903-41b4-a5e0-82ecd3cf7222",
   "metadata": {},
   "source": [
    "## Adding Measurment Operator to our Circuit\n",
    "- #### When a quantum state is measured, a qubit is projected in the computational basis ( Pauli Z - $\\sigma_z$ ) to either $|0\\rangle$ or $|1\\rangle$.\n",
    "- #### The classical bit `cbit` indicates the result of that projection as a `0` or a `1` respectively."
   ]
  },
  {
   "cell_type": "code",
   "execution_count": 3,
   "id": "902a6588-deac-428b-a1ee-1be205518fb4",
   "metadata": {},
   "outputs": [
    {
     "data": {
      "image/png": "[encoded data removed]",
      "text/plain": [
       "<Figure size 580.387x284.278 with 1 Axes>"
      ]
     },
     "execution_count": 3,
     "metadata": {},
     "output_type": "execute_result"
    }
   ],
   "source": [
    "bell_circ_m = QuantumCircuit(2)\n",
    "bell_circ_m.h(0)\n",
    "bell_circ_m.cx(0,1)\n",
    "bell_circ_m.measure_all()\n",
    "bell_circ_m.draw('mpl')"
   ]
  },
  {
   "cell_type": "markdown",
   "id": "d1657b8d-5526-400e-9545-df312cd27623",
   "metadata": {},
   "source": [
    "## Initialize a `Sampler` Class and invoke it to get Result"
   ]
  },
  {
   "cell_type": "code",
   "execution_count": 4,
   "id": "0d6d9fb3-c7bb-4bba-9642-74fabf40d24d",
   "metadata": {},
   "outputs": [],
   "source": [
    "# Importing StatevectorSampler: This can do full state vector simulation\n",
    "from qiskit.primitives import StatevectorSampler as Sampler"
   ]
  },
  {
   "cell_type": "code",
   "execution_count": 5,
   "id": "7e70d105-7161-4500-b3e5-507065117d37",
   "metadata": {},
   "outputs": [],
   "source": [
    "# Initialization of the sampler\n",
    "sampler = Sampler()"
   ]
  },
  {
   "cell_type": "code",
   "execution_count": 6,
   "id": "a22cb1b4-169a-475a-9093-f7ef05863bf2",
   "metadata": {},
   "outputs": [
    {
     "name": "stdout",
     "output_type": "stream",
     "text": [
      "PrimitiveResult([SamplerPubResult(data=DataBin(meas=BitArray(<shape=(), num_shots=1024, num_bits=2>)), metadata={'shots': 1024, 'circuit_metadata': {}})], metadata={'version': 2})\n"
     ]
    }
   ],
   "source": [
    "# Run and extract meaurement result\n",
    "# Note: Input circuit in PUB should contain 'measurement' operator\n",
    "pub = (bell_circ_m,)                      # PUB: Primitive Unified Blocs: Details at the end. \n",
    "job = sampler.run([pub], shots= 1024)\n",
    "job_result = job.result()\n",
    "\n",
    "# Printing the result object\n",
    "print(job_result)"
   ]
  },
  {
   "cell_type": "code",
   "execution_count": 7,
   "id": "d2f7ff5a-914f-4f59-9f7f-b8d83f3ebf49",
   "metadata": {},
   "outputs": [
    {
     "data": {
      "text/plain": [
       "SamplerPubResult(data=DataBin(meas=BitArray(<shape=(), num_shots=1024, num_bits=2>)), metadata={'shots': 1024, 'circuit_metadata': {}})"
      ]
     },
     "execution_count": 7,
     "metadata": {},
     "output_type": "execute_result"
    }
   ],
   "source": [
    "job_result[0]"
   ]
  },
  {
   "cell_type": "code",
   "execution_count": 8,
   "id": "a398e12b-15fd-482c-b6e8-cc7ab0ce4f9e",
   "metadata": {},
   "outputs": [],
   "source": [
    "result = job_result[0]"
   ]
  },
  {
   "cell_type": "markdown",
   "id": "7fe1b176-fdc2-476b-acef-e16393a4b086",
   "metadata": {},
   "source": [
    "## Extracting Measurement Counts"
   ]
  },
  {
   "cell_type": "code",
   "execution_count": 9,
   "id": "d1ddf20f-0a34-410c-b6c7-4f53b2f06991",
   "metadata": {},
   "outputs": [
    {
     "name": "stdout",
     "output_type": "stream",
     "text": [
      "{'11': 520, '00': 504}\n"
     ]
    }
   ],
   "source": [
    "counts = result.data.meas.get_counts()\n",
    "print(counts)"
   ]
  },
  {
   "cell_type": "markdown",
   "id": "9fb3af4a-a8c4-4945-b728-38d403bb30ba",
   "metadata": {},
   "source": [
    "## Extracting Individual Shot Result"
   ]
  },
  {
   "cell_type": "code",
   "execution_count": 10,
   "id": "23b76c26-6aec-4d5c-82c5-ad7a7f10155c",
   "metadata": {
    "scrolled": true
   },
   "outputs": [
    {
     "name": "stdout",
     "output_type": "stream",
     "text": [
      "['11', '00', '11', '00', '00', '11', '00', '11', '11', '00', '00', '00', '00', '00', '11', '00', '11', '11', '11', '11', '11', '00', '00', '11', '11', '00', '11', '00', '11', '11', '00', '00', '00', '11', '11', '11', '00', '00', '00', '11', '11', '00', '11', '00', '00', '11', '00', '11', '00', '11', '00', '11', '00', '00', '11', '11', '00', '11', '00', '00', '00', '11', '00', '11', '11', '11', '11', '00', '00', '00', '11', '11', '00', '00', '00', '00', '00', '11', '11', '11', '11', '00', '00', '11', '11', '00', '00', '11', '00', '00', '00', '11', '00', '11', '00', '00', '11', '11', '00', '00', '11', '00', '00', '11', '00', '00', '11', '00', '11', '11', '11', '00', '00', '11', '11', '11', '00', '11', '11', '11', '11', '11', '00', '11', '00', '11', '00', '11', '00', '00', '00', '00', '11', '00', '00', '11', '00', '00', '00', '11', '11', '00', '11', '11', '00', '11', '00', '11', '00', '11', '00', '11', '00', '11', '11', '11', '11', '11', '00', '00', '00', '11', '00', '11', '11', '11', '11', '00', '11', '00', '11', '11', '11', '11', '11', '00', '11', '00', '00', '00', '00', '00', '11', '11', '11', '00', '00', '00', '11', '00', '00', '11', '11', '00', '11', '11', '00', '00', '11', '11', '11', '11', '00', '00', '00', '00', '00', '11', '00', '11', '11', '11', '00', '00', '00', '11', '11', '11', '11', '00', '00', '11', '11', '00', '11', '00', '00', '11', '00', '00', '11', '00', '00', '00', '00', '00', '00', '11', '11', '11', '11', '11', '11', '00', '00', '11', '11', '00', '11', '00', '11', '00', '11', '11', '11', '11', '00', '11', '00', '00', '11', '00', '00', '00', '00', '11', '11', '11', '00', '11', '00', '00', '11', '00', '00', '11', '00', '11', '00', '00', '11', '00', '11', '11', '11', '00', '11', '11', '00', '11', '11', '11', '11', '11', '00', '00', '11', '00', '11', '00', '00', '11', '00', '11', '11', '00', '00', '00', '11', '00', '11', '11', '00', '11', '00', '00', '11', '11', '00', '00', '00', '11', '11', '00', '00', '00', '00', '00', '00', '11', '00', '11', '00', '11', '11', '00', '00', '11', '11', '11', '11', '00', '11', '11', '00', '11', '00', '00', '00', '00', '11', '00', '00', '11', '11', '00', '11', '11', '00', '11', '11', '11', '11', '00', '11', '00', '11', '00', '11', '00', '00', '11', '00', '11', '11', '11', '00', '11', '00', '00', '11', '11', '11', '11', '11', '11', '00', '00', '11', '11', '00', '00', '11', '00', '00', '00', '00', '00', '00', '11', '00', '00', '00', '11', '00', '11', '11', '00', '00', '00', '00', '00', '11', '11', '11', '00', '00', '11', '00', '00', '00', '00', '00', '00', '11', '11', '11', '11', '00', '11', '11', '00', '00', '00', '00', '11', '11', '00', '11', '00', '00', '00', '11', '00', '11', '11', '00', '00', '11', '00', '11', '11', '11', '00', '11', '00', '11', '00', '11', '00', '00', '00', '00', '11', '00', '11', '11', '11', '00', '11', '00', '11', '11', '00', '11', '11', '11', '11', '11', '00', '11', '11', '11', '11', '00', '00', '11', '11', '11', '11', '11', '00', '00', '00', '11', '00', '00', '00', '11', '11', '11', '11', '00', '11', '11', '11', '11', '00', '00', '00', '11', '11', '00', '00', '00', '00', '00', '11', '00', '00', '00', '00', '00', '11', '11', '00', '11', '00', '11', '11', '11', '11', '11', '11', '11', '11', '11', '00', '11', '00', '11', '11', '00', '11', '00', '11', '11', '11', '00', '00', '00', '11', '00', '00', '11', '11', '11', '00', '00', '00', '00', '11', '11', '00', '00', '00', '11', '00', '00', '11', '11', '11', '00', '00', '11', '11', '11', '00', '11', '00', '11', '11', '11', '00', '11', '11', '00', '11', '11', '00', '11', '00', '11', '00', '00', '11', '11', '11', '00', '00', '11', '00', '11', '00', '11', '00', '11', '00', '11', '11', '00', '11', '00', '11', '11', '00', '11', '11', '11', '00', '00', '11', '00', '00', '00', '11', '11', '11', '00', '11', '11', '11', '00', '11', '00', '11', '11', '00', '00', '00', '11', '00', '11', '11', '11', '11', '11', '11', '11', '11', '00', '00', '00', '11', '11', '11', '00', '00', '11', '00', '00', '11', '11', '11', '00', '11', '11', '11', '00', '11', '00', '11', '00', '11', '00', '00', '11', '00', '00', '11', '00', '11', '00', '00', '11', '11', '00', '00', '00', '11', '11', '00', '00', '00', '11', '00', '00', '11', '11', '00', '11', '11', '00', '11', '00', '11', '11', '00', '00', '11', '11', '00', '11', '00', '00', '11', '11', '00', '11', '11', '11', '00', '11', '00', '11', '00', '00', '11', '00', '11', '00', '11', '00', '11', '11', '11', '00', '00', '11', '11', '00', '11', '00', '11', '00', '11', '00', '11', '11', '11', '00', '00', '00', '00', '00', '00', '00', '00', '11', '11', '00', '11', '11', '11', '11', '00', '00', '00', '00', '00', '00', '00', '00', '11', '00', '00', '00', '00', '00', '00', '00', '00', '11', '00', '11', '11', '11', '11', '11', '00', '00', '00', '11', '11', '11', '11', '00', '11', '11', '00', '11', '11', '00', '00', '00', '00', '11', '00', '00', '00', '00', '11', '00', '11', '00', '11', '00', '00', '00', '11', '00', '11', '00', '00', '00', '00', '11', '00', '00', '00', '11', '00', '00', '11', '11', '00', '11', '11', '11', '00', '11', '11', '11', '11', '11', '11', '11', '00', '11', '11', '11', '11', '11', '11', '11', '11', '00', '11', '00', '11', '00', '11', '11', '11', '11', '00', '11', '00', '11', '11', '11', '11', '00', '11', '00', '00', '00', '00', '11', '00', '00', '11', '11', '11', '11', '11', '00', '00', '00', '11', '00', '11', '11', '11', '11', '00', '11', '11', '11', '00', '00', '11', '11', '11', '00', '11', '00', '11', '00', '11', '00', '00', '00', '11', '11', '00', '11', '00', '11', '00', '00', '00', '00', '00', '11', '11', '11', '11', '00', '11', '11', '11', '00', '11', '00', '00', '00', '00', '00', '11', '11', '11', '11', '00', '00', '00', '00', '00', '00', '11', '11', '11', '00', '11', '00', '11', '11', '11', '00', '00', '11', '00', '11', '11', '00', '00', '11', '11', '00', '00', '11', '00', '00', '00', '00', '11', '00', '00', '00', '00', '00', '00', '11', '00', '11', '11', '00', '11', '00', '00', '00', '00', '11', '11', '00', '11', '00', '11', '11', '11', '00', '11', '00', '00', '11', '00', '11', '00', '11', '00', '00', '11', '00', '00', '11', '11', '00', '00', '00', '00', '11', '11', '11', '11']\n"
     ]
    }
   ],
   "source": [
    "bit_strings = result.data.meas.get_bitstrings()\n",
    "print(bit_strings)"
   ]
  },
  {
   "cell_type": "markdown",
   "id": "a730334a-7bef-4a4c-bcf1-03f1a23d6f76",
   "metadata": {},
   "source": [
    "## Plot Probability Distribution"
   ]
  },
  {
   "cell_type": "code",
   "execution_count": 11,
   "id": "57423dc7-4ec1-40aa-96fe-887c1647ff1c",
   "metadata": {},
   "outputs": [],
   "source": [
    "from qiskit.visualization import plot_distribution"
   ]
  },
  {
   "cell_type": "code",
   "execution_count": 12,
   "id": "18b2a86a-0d4c-4304-8674-0f1f1648cd98",
   "metadata": {},
   "outputs": [
    {
     "data": {
      "image/png": "[encoded data removed]",
      "text/plain": [
       "<Figure size 700x500 with 1 Axes>"
      ]
     },
     "execution_count": 12,
     "metadata": {},
     "output_type": "execute_result"
    }
   ],
   "source": [
    "plot_distribution(counts)"
   ]
  },
  {
   "cell_type": "markdown",
   "id": "a35ecfb5-8141-40a1-a0ba-9f60e35a3ddc",
   "metadata": {},
   "source": [
    "# Learn to Use `Estimator`"
   ]
  },
  {
   "cell_type": "markdown",
   "id": "5b855e2e-6a2f-4966-a923-24f0cf742b73",
   "metadata": {},
   "source": [
    "## Let's find the expectation value of an `operator` with respect to a given `state`"
   ]
  },
  {
   "cell_type": "markdown",
   "id": "6679f112-38d3-40cc-9160-5e9dfd617302",
   "metadata": {},
   "source": [
    "## State: $$ |\\phi^+\\rangle = \\frac{1}{\\sqrt{2}}\\Big[|00\\rangle + |11\\rangle\\Big]$$\n",
    "\n",
    "## Observable: $$ H = 4 XX + 3 YX +5 ZI  = 4 \\sigma_x\\sigma_x + 3 \\sigma_y\\sigma_x +5 \\sigma_z\\sigma_o $$\n",
    "\n",
    "## To Evaluate: $$\\langle\\phi^+|H|\\phi^+\\rangle $$"
   ]
  },
  {
   "cell_type": "code",
   "execution_count": 13,
   "id": "c5d6b22a-7d16-416d-b4ee-3aca5e7922da",
   "metadata": {},
   "outputs": [],
   "source": [
    "from qiskit.quantum_info import SparsePauliOp"
   ]
  },
  {
   "cell_type": "code",
   "execution_count": 14,
   "id": "cf40b58e-bccf-4c11-8d6e-a0f4c45d81b0",
   "metadata": {},
   "outputs": [
    {
     "name": "stdout",
     "output_type": "stream",
     "text": [
      "SparsePauliOp(['XX', 'YX', 'ZI'],\n",
      "              coeffs=[4.+0.j, 3.+0.j, 5.+0.j])\n"
     ]
    }
   ],
   "source": [
    "# Defining an operator\n",
    "operator = SparsePauliOp([\"XX\", \"YX\", \"ZI\"], [4 , 3 , 5])\n",
    "print(operator)"
   ]
  },
  {
   "cell_type": "code",
   "execution_count": 15,
   "id": "0c1944de-793d-4292-939b-aa0d50eb444e",
   "metadata": {},
   "outputs": [
    {
     "name": "stdout",
     "output_type": "stream",
     "text": [
      "[[ 5.+0.j  0.+0.j  0.+0.j  4.-3.j]\n",
      " [ 0.+0.j  5.+0.j  4.-3.j  0.+0.j]\n",
      " [ 0.+0.j  4.+3.j -5.+0.j  0.+0.j]\n",
      " [ 4.+3.j  0.+0.j  0.+0.j -5.+0.j]]\n"
     ]
    }
   ],
   "source": [
    "print(operator.to_matrix())"
   ]
  },
  {
   "cell_type": "code",
   "execution_count": 16,
   "id": "075efa8d-a1ef-4e0c-92f2-f686eefab885",
   "metadata": {},
   "outputs": [],
   "source": [
    "from qiskit.primitives import StatevectorEstimator as Estimator"
   ]
  },
  {
   "cell_type": "code",
   "execution_count": 17,
   "id": "98c14c9e-5472-4fc3-beb5-0d627d58bd70",
   "metadata": {},
   "outputs": [],
   "source": [
    "# Initialization of the Estimator\n",
    "estimator = Estimator()"
   ]
  },
  {
   "cell_type": "code",
   "execution_count": 18,
   "id": "e840c5de-613e-466a-bfd5-133db349fe16",
   "metadata": {
    "scrolled": true
   },
   "outputs": [
    {
     "name": "stdout",
     "output_type": "stream",
     "text": [
      "PrimitiveResult([PubResult(data=DataBin(evs=np.ndarray(<shape=(), dtype=float64>), stds=np.ndarray(<shape=(), dtype=float64>)), metadata={'target_precision': 0.001, 'circuit_metadata': {}})], metadata={'version': 2})\n"
     ]
    }
   ],
   "source": [
    "# Run and extract meaurement result\n",
    "# Note: Input circuit in PUB should 'not' contain 'measurement' operator\n",
    "pub_2 = (bell_circuit, operator)                    # PUB: Primitive Unified Blocs: Details at the end.\n",
    "job_2 = estimator.run([pub_2], precision= 0.001)\n",
    "job_result_2 = job_2.result()\n",
    "\n",
    "# Printing the result object\n",
    "print(job_result_2)"
   ]
  },
  {
   "cell_type": "code",
   "execution_count": 19,
   "id": "016d2d24-a170-471d-834c-c2f2ac338deb",
   "metadata": {},
   "outputs": [
    {
     "data": {
      "text/plain": [
       "PubResult(data=DataBin(evs=np.ndarray(<shape=(), dtype=float64>), stds=np.ndarray(<shape=(), dtype=float64>)), metadata={'target_precision': 0.001, 'circuit_metadata': {}})"
      ]
     },
     "execution_count": 19,
     "metadata": {},
     "output_type": "execute_result"
    }
   ],
   "source": [
    "job_result_2[0]"
   ]
  },
  {
   "cell_type": "code",
   "execution_count": 21,
   "id": "6dac95ef-83a3-4b1c-ab99-41958c469098",
   "metadata": {},
   "outputs": [],
   "source": [
    "result_2 = job_result_2[0]"
   ]
  },
  {
   "cell_type": "code",
   "execution_count": 22,
   "id": "be9834c1-22d7-41eb-98da-09b90f333476",
   "metadata": {},
   "outputs": [
    {
     "name": "stdout",
     "output_type": "stream",
     "text": [
      "Expectation Value: 4.000373930738696\n",
      "Standard Deviation: 0.0\n"
     ]
    }
   ],
   "source": [
    "print(f'Expectation Value: {result_2.data.evs}')\n",
    "print(f'Standard Deviation: {result_2.data.stds}')"
   ]
  },
  {
   "cell_type": "markdown",
   "id": "286601c1-32fd-429a-972c-0c15152d8acd",
   "metadata": {},
   "source": [
    "# Notes on `PUB: Primitive Unified Blocs`\n",
    "## For `Sampler`\n",
    "`pub = (circuit [required],parameter_values [optional],shots [optional]) `\n",
    "### Valid Formats\n",
    "1. (parametric_circuit, parameter_values, shots)\n",
    "2. (parametric_circuit, parameter_values)\n",
    "3. (non_parametric_circuit, None, shots)\n",
    "4. (non_parametric_circuit, )\n",
    "## For `Estimator`\n",
    "\n",
    "`pub = (circuit [required],observables [required],parameter_values [optional], precision [optional],)`\n",
    "### Valid Formats\n",
    "1. (parametric_circuit, observables, parameter_values, precision)\n",
    "2. (parametric_circuit, observables, parameter_values)\n",
    "3. (non_parametric_circuit, observables, None, precision)\n",
    "4. (non_parametric_circuit, observables)"
   ]
  },
  {
   "cell_type": "code",
   "execution_count": null,
   "id": "7ee46f84-a4d3-457c-81f6-32c42f556b35",
   "metadata": {},
   "outputs": [],
   "source": []
  },
  {
   "cell_type": "markdown",
   "id": "26f7e976-232c-4736-a3d5-73f8f7be0aff",
   "metadata": {},
   "source": [
    "# We hope you enjoyed the session !!! See you on next notebook.\n",
    "#### Following qiskit and related package versions were used whiling writing and modifying the notebooks.\n",
    "`qiskit                    2.0.0`\n",
    "`qiskit-aer                0.17.0`\n",
    "`qiskit-algorithms         0.3.1`\n",
    "`qiskit-experiments        0.10.0`\n",
    "`qiskit-ibm-experiment     0.4.8`\n",
    "`qiskit-ibm-runtime        0.37.0`"
   ]
  }
 ],
 "metadata": {
  "kernelspec": {
   "display_name": "Python 3 (ipykernel)",
   "language": "python",
   "name": "python3"
  },
  "language_info": {
   "codemirror_mode": {
    "name": "ipython",
    "version": 3
   },
   "file_extension": ".py",
   "mimetype": "text/x-python",
   "name": "python",
   "nbconvert_exporter": "python",
   "pygments_lexer": "ipython3",
   "version": "3.12.9"
  }
 },
 "nbformat": 4,
 "nbformat_minor": 5
}

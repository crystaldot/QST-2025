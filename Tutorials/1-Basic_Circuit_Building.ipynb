{
 "cells": [
  {
   "cell_type": "markdown",
   "id": "c8cd9ec4-61bb-40aa-89ce-cdb9a55d3c04",
   "metadata": {},
   "source": [
    "# What is Qiskit?\n",
    "` Qiskit is an open-source software stack for quantum computing, developed by IBM, allowing users to build and run quantum circuits on various hardware, including IBM's quantum computers.`\n",
    "- **Build and run quantum circuits, algorithms, simulations.**\n",
    "- **Quantum computation and simulation on Real Quantum Backends directly from your computer via cloud.**\n",
    "\n",
    "\n",
    "# Prerequisites (Recommeded)\n",
    "- Python\n",
    "- Linear Algebra\n",
    "- Quantum Mechanics, Braket Algebra\n",
    "\n",
    "## Are there any other tools out there to do Quantum Computing?\n",
    "- **Cirq** (Google)\n",
    "- **Pennylane** (Xanadu)\n",
    "- **Braket** (Amazon)\n",
    "- **Q#** (Microsoft)\n",
    "- ..."
   ]
  },
  {
   "cell_type": "markdown",
   "id": "8b6b7ceb-95d4-4ca2-945f-095daab1daf5",
   "metadata": {},
   "source": [
    "# Installing packages from Jupyter Notebook directly..."
   ]
  },
  {
   "cell_type": "code",
   "execution_count": null,
   "id": "07b58d75-ceab-4d43-bcb7-a6f7777252df",
   "metadata": {
    "scrolled": true
   },
   "outputs": [],
   "source": [
    "# Installing a single package with extra capability using  \" pip install package_name[extra] \"\n",
    "!pip install qiskit[visualization]\n",
    "\n",
    "# Installing a single single package\n",
    "!pip install qiskit-aer\n",
    "\n",
    "# Installing multiple package together\n",
    "!pip install qiskit-algorithms qiskit-experiments qiskit-ibm-runtime   "
   ]
  },
  {
   "cell_type": "markdown",
   "id": "79580d66-b3d5-46e1-8620-39efb5cc2e52",
   "metadata": {},
   "source": [
    "# Let's Get Started...\n",
    "- ### To build any quantum state using a quantum computer, we start from a simple fiducial state.\n",
    "- ### By default in Qiskit, qubits are initialized  in `all-zero-state`: $|00000...0\\rangle$\n",
    "- ### For example if we want to build a 3-qubit GHZ state: $$ |\\psi\\rangle\\ = \\frac{1}{\\sqrt{2}}\\Big[|000\\rangle + |111\\rangle\\Big]$$\n",
    "### We have to start from the fiducial state: $|000\\rangle$"
   ]
  },
  {
   "cell_type": "markdown",
   "id": "bcf6fbee-c822-4945-a9c7-cc699abbbf84",
   "metadata": {},
   "source": [
    " "
   ]
  },
  {
   "cell_type": "markdown",
   "id": "09994252-e5b9-4cb2-b7b8-ce0c7da4b36e",
   "metadata": {},
   "source": [
    "# 1. Let's Build our First Quantum Circuit by Preparing a type of Bell State\n",
    "### $$ |\\phi^+\\rangle = \\frac{1}{\\sqrt{2}}\\Big[|00\\rangle + |11\\rangle\\Big]$$\n",
    "### Tensor Product Notation Alert: $$ |0\\rangle_A \\otimes |0\\rangle_B \\equiv |0_A0_B\\rangle \\equiv |00\\rangle_{AB} \\equiv |00\\rangle $$"
   ]
  },
  {
   "cell_type": "markdown",
   "id": "4450bedf-e4fe-49f4-8712-5fa84eb96b73",
   "metadata": {},
   "source": [
    "## How to reach the state $|\\phi^+\\rangle$ from $|00\\rangle$ ? \n",
    "### $$ H_0|00\\rangle = \\frac{1}{\\sqrt{2}} \\Big[ |00\\rangle + |10\\rangle \\Big] $$\n",
    "### $$ CNOT_{01}\\bigg[\\frac{1}{\\sqrt{2}}\\Big[|00\\rangle + |10\\rangle\\Big]\\bigg] = \\frac{1}{\\sqrt{2}}\\Big[|00\\rangle + |11\\rangle\\Big]$$"
   ]
  },
  {
   "cell_type": "code",
   "execution_count": null,
   "id": "ca60d3cf-cbf6-48f1-8e53-a4def8be2254",
   "metadata": {},
   "outputs": [],
   "source": [
    "# Importing required items from packages\n",
    "from qiskit import QuantumCircuit"
   ]
  },
  {
   "cell_type": "markdown",
   "id": "6830f743-fa34-4df3-92e7-09d6264b300b",
   "metadata": {},
   "source": [
    "## Building Quantum Ciruit"
   ]
  },
  {
   "cell_type": "code",
   "execution_count": null,
   "id": "3b73af7d-7c05-46a5-9266-7047a87ebe40",
   "metadata": {},
   "outputs": [],
   "source": [
    "# Create a new quantum circuit with two qubits\n",
    "bell_circuit = QuantumCircuit(2)\n",
    " \n",
    "# Apply a Hadamard gate to qubit-0\n",
    "bell_circuit.h(0)\n",
    "\n",
    "# Apply controlled-NOT (CNOT or CX) gate on qubit-1 controlled by qubit-0\n",
    "bell_circuit.cx(0,1)\n",
    "\n",
    "# Draw the built circuit. This is the last line of the cell, so the drawing appears in the cell output.\n",
    "bell_circuit.draw()"
   ]
  },
  {
   "cell_type": "code",
   "execution_count": null,
   "id": "b94f8689-2611-4bee-82af-223ad1e7952e",
   "metadata": {},
   "outputs": [],
   "source": [
    "# Return a colored drawing of the circuit using MatPlotLib (\"mpl\").\n",
    "bell_circuit.draw('mpl')"
   ]
  },
  {
   "cell_type": "markdown",
   "id": "08c7ab66-2362-4125-baa1-07dd838f87f8",
   "metadata": {},
   "source": [
    "# Exercices\n",
    "## Build qunatum circuits using `QuantumCircuit` class to build following pure state."
   ]
  },
  {
   "cell_type": "markdown",
   "id": "603901f7-cf7d-405a-8b0a-d73c37e56f67",
   "metadata": {},
   "source": [
    "## Single Qubit States\n",
    "## 1. $|1\\rangle$ "
   ]
  },
  {
   "cell_type": "code",
   "execution_count": null,
   "id": "5f0cb97e-d325-46f4-915b-b0ec687029e1",
   "metadata": {},
   "outputs": [],
   "source": [
    "circ_1 = QuantumCircuit(1)\n",
    "# Your code goes below...\n",
    "\n",
    "\n",
    "# End of Code (Do not write anything after this line)\n",
    "# Draw the circuit\n",
    "circ_1.draw('mpl')"
   ]
  },
  {
   "cell_type": "markdown",
   "id": "f953321a-9885-46d9-98e9-5425a8aee9e2",
   "metadata": {},
   "source": [
    "> ## You may verify your obtained states using following."
   ]
  },
  {
   "cell_type": "code",
   "execution_count": null,
   "id": "d6402da5-8f7d-4995-b399-a70b160a3457",
   "metadata": {},
   "outputs": [],
   "source": [
    "from qiskit.quantum_info import Statevector\n",
    "from qiskit.visualization import array_to_latex, plot_bloch_vector, plot_state_qsphere"
   ]
  },
  {
   "cell_type": "code",
   "execution_count": null,
   "id": "08cffa04-df8b-419e-b9d4-ffd511b3d3b3",
   "metadata": {},
   "outputs": [],
   "source": [
    "state_1 = Statevector(circ_1)       # Converts your circuit into a Statevector object\n",
    "print(f'State 1: {state_1.data}')   # Prints the Statevector in array form"
   ]
  },
  {
   "cell_type": "code",
   "execution_count": null,
   "id": "68bc44e5-dd0f-4d9f-aac7-90e460a61d78",
   "metadata": {},
   "outputs": [],
   "source": [
    "display(array_to_latex(state_1))       # Prints the same state in through latex rendering"
   ]
  },
  {
   "cell_type": "code",
   "execution_count": null,
   "id": "8ff72f69-3d6d-48a6-8230-a5eb0daabee7",
   "metadata": {},
   "outputs": [],
   "source": [
    "display(plot_state_qsphere(state_1))   # Visualization of single or multi-qubit state using Q-Sphere"
   ]
  },
  {
   "cell_type": "markdown",
   "id": "c1fa71f5-88e7-417b-a9d4-5930a0627269",
   "metadata": {},
   "source": [
    "### 2. $|+\\rangle = \\frac{1}{\\sqrt{2}}\\Big[|0\\rangle + |1\\rangle\\Big]$"
   ]
  },
  {
   "cell_type": "code",
   "execution_count": null,
   "id": "6755e5f8-5d25-4857-891c-3a04b25059e3",
   "metadata": {},
   "outputs": [],
   "source": [
    "circ_2 = QuantumCircuit(1)\n",
    "# Your code goes below...\n",
    "\n",
    "\n",
    "\n",
    "# End of Code (Do not write anything after this line)\n",
    "# Draw the circuit\n",
    "circ_2.draw('mpl')"
   ]
  },
  {
   "cell_type": "markdown",
   "id": "5c09f713-494d-44c1-8db7-07e5e33b0613",
   "metadata": {},
   "source": [
    "### 3. $|-\\rangle = \\frac{1}{\\sqrt{2}}\\Big[|0\\rangle - |1\\rangle\\Big]$"
   ]
  },
  {
   "cell_type": "code",
   "execution_count": null,
   "id": "07244582-8c3c-4634-8db4-0e9467e57154",
   "metadata": {},
   "outputs": [],
   "source": [
    "circ_3 = QuantumCircuit(1)\n",
    "# Your code goes below...\n",
    "\n",
    "\n",
    "\n",
    "# End of Code (Do not write anything after this line)\n",
    "# Draw the circuit\n",
    "circ_3.draw('mpl')"
   ]
  },
  {
   "cell_type": "markdown",
   "id": "068aa599-d011-4131-aedc-8176bfc4a8b9",
   "metadata": {},
   "source": [
    "### 4. $|+i\\rangle = \\frac{1}{\\sqrt{2}}\\Big[|0\\rangle + i |1\\rangle\\Big]$"
   ]
  },
  {
   "cell_type": "code",
   "execution_count": null,
   "id": "8728f778-0008-4396-9dd6-77c867da6ecc",
   "metadata": {},
   "outputs": [],
   "source": [
    "circ_4 = QuantumCircuit(1)\n",
    "# Your code goes below...\n",
    "\n",
    "\n",
    "\n",
    "# End of Code (Do not write anything after this line)\n",
    "# Draw the circuit\n",
    "circ_4.draw('mpl')"
   ]
  },
  {
   "cell_type": "markdown",
   "id": "4b1686ca-bdec-453a-bcc9-d64eee5d2539",
   "metadata": {},
   "source": [
    "### 5. $|-i\\rangle = \\frac{1}{\\sqrt{2}}\\Big[|0\\rangle - i |1\\rangle\\Big]$"
   ]
  },
  {
   "cell_type": "code",
   "execution_count": null,
   "id": "ef4fe579-54f9-4ef4-8e8c-7af59426b3c5",
   "metadata": {},
   "outputs": [],
   "source": [
    "circ_5 = QuantumCircuit(1)\n",
    "# Your code goes below...\n",
    "\n",
    "\n",
    "\n",
    "# End of Code (Do not write anything after this line)\n",
    "# Draw the circuit\n",
    "circ_5.draw('mpl')"
   ]
  },
  {
   "cell_type": "markdown",
   "id": "5209150b-5fe8-4345-8f35-0d097de79356",
   "metadata": {},
   "source": [
    "### Try to generate an random single qubit state by applying single-qubit gates of your choice for example `rx(angle, qubit)`, `ry(angle, qubit)`, `rz(angle, qubit)` gates or any other gates and visulaize the state using Bloch Sphere"
   ]
  },
  {
   "cell_type": "code",
   "execution_count": null,
   "id": "bac85430-68a9-4cc3-9515-40be320f3153",
   "metadata": {},
   "outputs": [],
   "source": [
    "random_circuit = QuantumCircuit(1)\n",
    "# Your code goes below...\n",
    "\n",
    "\n",
    "\n",
    "# Draw the circuit\n",
    "random_circuit.draw('mpl')"
   ]
  },
  {
   "cell_type": "markdown",
   "id": "13bccddf-f93b-4c69-af9a-e8cef17d1ddd",
   "metadata": {},
   "source": [
    "### Use the following fuction: `plot_bloch_vector([x, y, z])` or `plot_bloch_vector([r, theta ,phi])`\n",
    "\n"
   ]
  },
  {
   "cell_type": "code",
   "execution_count": null,
   "id": "831f818a-9dfc-4985-8c7c-cb4e49e38ba0",
   "metadata": {},
   "outputs": [],
   "source": [
    "x = 0\n",
    "y = 1\n",
    "z = 0\n",
    "# Your code goes below.\n",
    "\n"
   ]
  },
  {
   "cell_type": "markdown",
   "id": "5b1f7fcb-cd12-4525-a2af-2913319ac351",
   "metadata": {},
   "source": [
    "## Two Qubit States\n",
    "### 6. $\\frac{1}{2}\\Big[|00\\rangle + |01\\rangle + |10\\rangle + |11\\rangle\\Big]$"
   ]
  },
  {
   "cell_type": "code",
   "execution_count": null,
   "id": "acfdedc5-af73-4107-bf4e-6b5ad4286f6c",
   "metadata": {},
   "outputs": [],
   "source": [
    "# Your code goes below...\n",
    "circ_6 = QuantumCircuit(2)\n",
    "\n",
    "\n",
    "# End of Code (Do not write anything after this line)\n",
    "# Draw the circuit\n",
    "circ_6.draw('mpl')"
   ]
  },
  {
   "cell_type": "code",
   "execution_count": null,
   "id": "8b542eb4-2969-4e67-adc3-6bbab9a12cfa",
   "metadata": {},
   "outputs": [],
   "source": [
    "# Statevector in latex form\n",
    "array_to_latex(Statevector(circ_6))"
   ]
  },
  {
   "cell_type": "markdown",
   "id": "260ef181-0201-46e7-b1c3-820b75ace52a",
   "metadata": {},
   "source": [
    "### 7. $\\frac{1}{2}\\Big[|00\\rangle - |01\\rangle + |10\\rangle - |11\\rangle\\Big]$"
   ]
  },
  {
   "cell_type": "code",
   "execution_count": null,
   "id": "111cca92-10ea-403d-b98c-55918f46831c",
   "metadata": {},
   "outputs": [],
   "source": [
    "# Your code goes below... Name the ciruit as: circ_7\n",
    "\n",
    "\n",
    "\n",
    "# Draw the circuit\n",
    "\n"
   ]
  },
  {
   "cell_type": "markdown",
   "id": "f8f06113-dec7-4e50-bf25-000902d61c1d",
   "metadata": {},
   "source": [
    "### 8. $|\\phi^-\\rangle = \\frac{1}{\\sqrt{2}}\\Big[|00\\rangle - |11\\rangle\\Big]$"
   ]
  },
  {
   "cell_type": "code",
   "execution_count": null,
   "id": "caeb9860-e3ab-408e-94f7-03e4de4cc80c",
   "metadata": {},
   "outputs": [],
   "source": [
    "# Your code goes below... Name the ciruit as: circ_8\n",
    "\n",
    "\n",
    "\n",
    "\n",
    "# Draw the circuit\n"
   ]
  },
  {
   "cell_type": "markdown",
   "id": "50f7a35d-2dc2-4575-bab5-02e3e3cfe940",
   "metadata": {},
   "source": [
    "### 9. $|\\psi^+\\rangle = \\frac{1}{\\sqrt{2}}\\Big[|01\\rangle + |10\\rangle\\Big]$"
   ]
  },
  {
   "cell_type": "code",
   "execution_count": null,
   "id": "4e68091f-5189-4967-a097-91821285de75",
   "metadata": {},
   "outputs": [],
   "source": [
    "# Your code goes below... Name the ciruit as: circ_9\n",
    "\n",
    "\n",
    "\n",
    "\n",
    "# Draw the circuit\n",
    "\n",
    "# End of Code (Do not write anything after this line)"
   ]
  },
  {
   "cell_type": "markdown",
   "id": "ab7d4373-3ada-4f88-91b6-32e58bd61908",
   "metadata": {},
   "source": [
    "### 10. $|\\psi^-\\rangle = \\frac{1}{\\sqrt{2}}\\Big[|01\\rangle - |10\\rangle\\Big]$"
   ]
  },
  {
   "cell_type": "code",
   "execution_count": null,
   "id": "d652d47b-479d-433d-a492-170101bb91ac",
   "metadata": {},
   "outputs": [],
   "source": [
    "# Your code goes below... Name the ciruit as: circ_10\n",
    "\n",
    "\n",
    "\n",
    "\n",
    "# Draw the circuit\n"
   ]
  },
  {
   "cell_type": "markdown",
   "id": "fa855aa8-899b-4770-bb3a-8e1998611328",
   "metadata": {},
   "source": [
    "### 11. $\\frac{1}{2}\\Big[|00\\rangle + |01\\rangle - |10\\rangle + |11\\rangle\\Big]$"
   ]
  },
  {
   "cell_type": "code",
   "execution_count": null,
   "id": "9e1528fb-dc1e-4f8e-bca7-943be250a450",
   "metadata": {},
   "outputs": [],
   "source": [
    "# Your code goes below... Name the ciruit as: circ_11\n",
    "\n",
    "\n",
    "\n",
    "\n",
    "# Draw the circuit\n"
   ]
  },
  {
   "cell_type": "markdown",
   "id": "4905aea0-68e9-4aba-a1a7-1deb6ac07181",
   "metadata": {},
   "source": [
    "## Three Qubit States\n",
    "### 12. GHZ State:    $$ \\frac{1}{\\sqrt{2}}\\Big[|000\\rangle + |111\\rangle\\Big]$$"
   ]
  },
  {
   "cell_type": "code",
   "execution_count": null,
   "id": "38b60848-30b3-4f39-9935-af21d84899eb",
   "metadata": {},
   "outputs": [],
   "source": [
    "circ_12 = QuantumCircuit(3)\n",
    "# Your code goes below\n",
    "\n",
    "\n",
    "\n",
    "\n",
    "# Draw the circuit\n"
   ]
  },
  {
   "cell_type": "markdown",
   "id": "e0273c4e-9724-48c2-b63e-8b58f9e0c491",
   "metadata": {},
   "source": [
    "### 13. Another GHZ State:    $$ \\frac{1}{\\sqrt{2}}\\Big[|001\\rangle - |110\\rangle\\Big]$$"
   ]
  },
  {
   "cell_type": "code",
   "execution_count": null,
   "id": "1b6eb3b6-fcbb-43ad-8503-c71f28df7773",
   "metadata": {},
   "outputs": [],
   "source": [
    "# Your code goes below... Name the ciruit as: circ_13\n",
    "\n",
    "\n",
    "\n",
    "\n",
    "# Draw the circuit\n"
   ]
  },
  {
   "cell_type": "markdown",
   "id": "077976b6-2f8d-46db-a43d-c549ffa5397d",
   "metadata": {},
   "source": [
    "# Your Assignment\n",
    "## ... should you choose to accept it, will be the following: \n",
    "### 1. Your mission is to bulid a fucntion which will generate a N-qubit GHZ state by entering value of N.\n",
    "### N-qubit GHZ will look like the following: $$ \\frac{1}{\\sqrt{2}}\\Big[|000...0\\rangle_{N-times} + |111...1\\rangle_{N-times}\\Big]$$\n",
    "### 2. Build the 3-qubit W-State: $$ |W_3\\rangle =  \\frac{1}{\\sqrt{3}}\\Big[|001\\rangle + |010\\rangle\\ + |001\\rangle\\Big]$$"
   ]
  },
  {
   "cell_type": "markdown",
   "id": "8ce3c21f-217f-4c48-88f4-5c375298cd28",
   "metadata": {},
   "source": [
    "# Assignment: 1"
   ]
  },
  {
   "cell_type": "code",
   "execution_count": null,
   "id": "e1ac1573-500f-4c4f-a93c-556f451d6834",
   "metadata": {},
   "outputs": [],
   "source": [
    "# Build the fucntion\n",
    "def N_qubit_GHZ_circuit_generator(num_qubits):\n",
    "    qc = QuantumCircuit(num_qubits)\n",
    "    # Your code goes below\n",
    "\n",
    "\n",
    "\n",
    "\n",
    "    # Do not write anything below this line.\n",
    "    return qc"
   ]
  },
  {
   "cell_type": "code",
   "execution_count": null,
   "id": "ddf4c13f-6ded-40a7-ab9d-e7ee4f1d3298",
   "metadata": {},
   "outputs": [],
   "source": [
    "N =      # Enter a value of N to draw your circuit\n",
    "GHZ_N_circuit = N_qubit_GHZ_circuit_generator(N)\n",
    "GHZ_N_circuit.draw('mpl')"
   ]
  },
  {
   "cell_type": "code",
   "execution_count": null,
   "id": "5e5cb6cb-85f1-4dc7-b8e9-afca90354d71",
   "metadata": {},
   "outputs": [],
   "source": [
    "# Check using Q-sphere\n",
    "array_to_latex(Statevector(GHZ_N_circuit).data)"
   ]
  },
  {
   "cell_type": "code",
   "execution_count": null,
   "id": "e3978e50-e4fa-4788-b10d-662956f4b384",
   "metadata": {},
   "outputs": [],
   "source": [
    "# Check using Q-sphere\n",
    "plot_state_qsphere(Statevector(GHZ_N_circuit))"
   ]
  },
  {
   "cell_type": "markdown",
   "id": "18f7815d-8a25-4957-8b9a-3f1d093276fe",
   "metadata": {},
   "source": [
    "# Assignment: 2"
   ]
  },
  {
   "cell_type": "code",
   "execution_count": null,
   "id": "23f7f0f7-3cdb-42eb-97e8-152c68fc1a50",
   "metadata": {},
   "outputs": [],
   "source": [
    "w_circuit = QuantumCircuit(3)\n",
    "# Your code goes below\n",
    "\n",
    "\n",
    "# Draw circuit\n",
    "w_circuit.draw('mpl')"
   ]
  },
  {
   "cell_type": "code",
   "execution_count": null,
   "id": "b83ac3e5-8f4f-4ee3-9b1c-2827c9aa46eb",
   "metadata": {},
   "outputs": [],
   "source": [
    "array_to_latex(Statevector(w_circuit))"
   ]
  },
  {
   "cell_type": "code",
   "execution_count": null,
   "id": "91bd6015-dec4-4cb6-b624-0c5c5070b796",
   "metadata": {},
   "outputs": [],
   "source": [
    "plot_state_qsphere(Statevector(w_circuit))"
   ]
  },
  {
   "cell_type": "code",
   "execution_count": null,
   "id": "95885396-3a99-486b-8fbe-8107f8062310",
   "metadata": {
    "scrolled": true
   },
   "outputs": [],
   "source": [
    "# To measure all the qubits in computational basis we use\n",
    "bell_circuit.measure_all()\n",
    "\n",
    "# Drawing the circuit again\n",
    "bell_circuit.draw('mpl')"
   ]
  },
  {
   "cell_type": "markdown",
   "id": "0a3e66b9-24c9-42a8-9dc0-bc6de549fd76",
   "metadata": {},
   "source": [
    "# We hope you enjoyed the session !!! See you on next notebook."
   ]
  }
 ],
 "metadata": {
  "kernelspec": {
   "display_name": "Python 3 (ipykernel)",
   "language": "python",
   "name": "python3"
  },
  "language_info": {
   "codemirror_mode": {
    "name": "ipython",
    "version": 3
   },
   "file_extension": ".py",
   "mimetype": "text/x-python",
   "name": "python",
   "nbconvert_exporter": "python",
   "pygments_lexer": "ipython3",
   "version": "3.12.9"
  }
 },
 "nbformat": 4,
 "nbformat_minor": 5
}
